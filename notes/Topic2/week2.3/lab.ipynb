{
 "cells": [
  {
   "cell_type": "markdown",
   "metadata": {},
   "source": [
    "xml file with info on current trains. \n",
    "\n",
    "https://api.irishrail.ie/realtime/realtime.asmx/getCurrentTrainsXML"
   ]
  },
  {
   "cell_type": "markdown",
   "metadata": {},
   "source": []
  }
 ],
 "metadata": {
  "language_info": {
   "name": "python"
  }
 },
 "nbformat": 4,
 "nbformat_minor": 2
}
