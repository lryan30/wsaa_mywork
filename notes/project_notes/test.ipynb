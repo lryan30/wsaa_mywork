{
 "cells": [
  {
   "cell_type": "markdown",
   "id": "4c2dbf82",
   "metadata": {},
   "source": [
    "<!DOCTYPE html>\n",
    "<html lang=\"en\">\n",
    "<head>\n",
    "  <meta charset=\"UTF-8\">\n",
    "  <title>Flask CRUD</title>\n",
    "</head>\n",
    "<body>\n",
    "  <h1>Items</h1>\n",
    "  <input type=\"text\" id=\"itemName\" placeholder=\"Enter item name\">\n",
    "  <button onclick=\"addItem()\">Add</button>\n",
    "  <ul id=\"itemList\"></ul>\n",
    "\n",
    "  <script src=\"/static/script.js\"></script>\n",
    "</body>\n",
    "</html>\n"
   ]
  },
  {
   "cell_type": "markdown",
   "id": "593d5832",
   "metadata": {},
   "source": []
  },
  {
   "cell_type": "markdown",
   "id": "e951c610",
   "metadata": {},
   "source": []
  },
  {
   "cell_type": "markdown",
   "id": "eb058ccd",
   "metadata": {},
   "source": [
    "<style>\n",
    "  body {\n",
    "    margin: 0;\n",
    "    height: 100vh;\n",
    "    background: radial-gradient(circle at center, #000 0%, #111 100%);\n",
    "    color: #0ff;\n",
    "    font-family: 'Press Start 2P', monospace;\n",
    "    display: flex;\n",
    "    justify-content: center;\n",
    "    align-items: center;\n",
    "    overflow: hidden;\n",
    "    position: relative;\n",
    "  }\n",
    "\n",
    "  .grid {\n",
    "    position: absolute;\n",
    "    width: 100%;\n",
    "    height: 100%;\n",
    "    background:\n",
    "      linear-gradient(to right, rgba(0, 255, 255, 0.1) 1px, transparent 1px),\n",
    "      linear-gradient(to bottom, rgba(0, 255, 255, 0.1) 1px, transparent 1px);\n",
    "    background-size: 40px 40px;\n",
    "    z-index: 0;\n",
    "  }\n",
    "\n",
    "  .loading-text {\n",
    "    z-index: 1;\n",
    "    font-size: 1rem;\n",
    "    animation: flicker 1s infinite;\n",
    "  }\n",
    "\n",
    "  @keyframes flicker {\n",
    "    0%, 100% { opacity: 1; }\n",
    "    50% { opacity: 0.4; }\n",
    "  }\n",
    "</style>\n",
    "\n",
    "<body>\n",
    "  <div class=\"grid\"></div>\n",
    "  <div class=\"loading-text\">INITIALIZING SYSTEM...</div>\n",
    "</body>\n"
   ]
  },
  {
   "cell_type": "code",
   "execution_count": null,
   "id": "20981520",
   "metadata": {},
   "outputs": [],
   "source": []
  },
  {
   "cell_type": "code",
   "execution_count": null,
   "id": "e61f91bf",
   "metadata": {},
   "outputs": [],
   "source": []
  },
  {
   "cell_type": "markdown",
   "id": "730cec20",
   "metadata": {},
   "source": [
    "<style>\n",
    "  body {\n",
    "    margin: 0;\n",
    "    background: black;\n",
    "    color: #0f0;\n",
    "    font-family: 'Press Start 2P', monospace;\n",
    "    display: flex;\n",
    "    justify-content: center;\n",
    "    align-items: center;\n",
    "    height: 100vh;\n",
    "    overflow: hidden;\n",
    "    animation: crt 0.2s infinite;\n",
    "  }\n",
    "\n",
    "  .text {\n",
    "    text-align: center;\n",
    "    font-size: 1rem;\n",
    "  }\n",
    "\n",
    "  @keyframes crt {\n",
    "    0%, 100% {\n",
    "      filter: blur(0.5px) brightness(1);\n",
    "    }\n",
    "    50% {\n",
    "      filter: blur(1px) brightness(1.2);\n",
    "    }\n",
    "  }\n",
    "</style>\n",
    "\n",
    "<body>\n",
    "  <div class=\"text\">LOADING SYSTEM FILES</div>\n",
    "</body>\n"
   ]
  },
  {
   "cell_type": "markdown",
   "id": "d18041e0",
   "metadata": {},
   "source": [
    "<audio autoplay>\n",
    "  <source src=\"boot.mp3\" type=\"audio/mpeg\">\n",
    "</audio>\n"
   ]
  },
  {
   "cell_type": "markdown",
   "id": "7d63a595",
   "metadata": {},
   "source": [
    "<audio autoplay>\n",
    "  <source src=\"boot.mp3\" type=\"audio/mpeg\">\n",
    "</audio>\n"
   ]
  },
  {
   "cell_type": "markdown",
   "id": "4b8b75bb",
   "metadata": {},
   "source": [
    "Add sound into folder called boot.mp3\n",
    "\n",
    "<audio autoplay>\n",
    "  <source src=\"boot.mp3\" type=\"audio/mpeg\">\n",
    "</audio>\n"
   ]
  }
 ],
 "metadata": {
  "kernelspec": {
   "display_name": "base",
   "language": "python",
   "name": "python3"
  },
  "language_info": {
   "codemirror_mode": {
    "name": "ipython",
    "version": 3
   },
   "file_extension": ".py",
   "mimetype": "text/x-python",
   "name": "python",
   "nbconvert_exporter": "python",
   "pygments_lexer": "ipython3",
   "version": "3.11.7"
  }
 },
 "nbformat": 4,
 "nbformat_minor": 5
}
